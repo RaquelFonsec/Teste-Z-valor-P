{
  "nbformat": 4,
  "nbformat_minor": 0,
  "metadata": {
    "colab": {
      "provenance": [],
      "authorship_tag": "ABX9TyOMxmIh/Vn5YDDHfo4jD7jk",
      "include_colab_link": true
    },
    "kernelspec": {
      "name": "python3",
      "display_name": "Python 3"
    },
    "language_info": {
      "name": "python"
    }
  },
  "cells": [
    {
      "cell_type": "markdown",
      "metadata": {
        "id": "view-in-github",
        "colab_type": "text"
      },
      "source": [
        "<a href=\"https://colab.research.google.com/github/RaquelFonsec/Teste-Z-valor-P/blob/main/Teste_de_Hipotese.ipynb\" target=\"_parent\"><img src=\"https://colab.research.google.com/assets/colab-badge.svg\" alt=\"Open In Colab\"/></a>"
      ]
    },
    {
      "cell_type": "markdown",
      "source": [
        "Uma pesquisa de mercado revelou que 240 dentre 600 pessoas de uma localidade, escolhidas aleatoriamente, comprariam certo produto se o mesmo for lançado no mercado da localidade. Construa intervalos de confiança de 95% e 99% para a proporção de pessoas da localidade que comprariam o referido produto.\n"
      ],
      "metadata": {
        "id": "4oqZXjMDl8mM"
      }
    },
    {
      "cell_type": "code",
      "source": [
        "import numpy as np\n",
        "from scipy.stats import norm\n",
        "\n",
        "# Dados do problema\n",
        "n = 600  # Tamanho da amostra\n",
        "x = 240  # Número de pessoas que comprariam\n",
        "p_hat = x / n  # Proporção amostral\n",
        "\n",
        "# Valores críticos Z para 95% e 99%\n",
        "z_95 = norm.ppf(0.975)  # 1.96\n",
        "z_99 = norm.ppf(0.995)  # 2.576\n",
        "\n",
        "# Erro padrão da proporção\n",
        "EP = np.sqrt((p_hat * (1 - p_hat)) / n)\n",
        "\n",
        "# Intervalo de Confiança 95%\n",
        "IC_95_min = p_hat - z_95 * EP\n",
        "IC_95_max = p_hat + z_95 * EP\n",
        "\n",
        "# Intervalo de Confiança 99%\n",
        "IC_99_min = p_hat - z_99 * EP\n",
        "IC_99_max = p_hat + z_99 * EP\n",
        "\n",
        "# Exibindo os resultados\n",
        "print(f\"Intervalo de Confiança 95%: ({IC_95_min:.4f}, {IC_95_max:.4f})\")\n",
        "print(f\"Intervalo de Confiança 99%: ({IC_99_min:.4f}, {IC_99_max:.4f})\")\n"
      ],
      "metadata": {
        "colab": {
          "base_uri": "https://localhost:8080/"
        },
        "id": "kL3FCx3Nl-kt",
        "outputId": "a6dc1504-a955-40e6-a27b-bc6d645d7681"
      },
      "execution_count": 1,
      "outputs": [
        {
          "output_type": "stream",
          "name": "stdout",
          "text": [
            "Intervalo de Confiança 95%: (0.3608, 0.4392)\n",
            "Intervalo de Confiança 99%: (0.3485, 0.4515)\n"
          ]
        }
      ]
    },
    {
      "cell_type": "markdown",
      "source": [
        "O fabricante de certa marca de suco informa que as embalagens de seu produto têm em média 500 ml, com desvio padrão igual a 10 ml. Tendo sido encontradas no mercado algumas embalagens com menos de 500 ml, suspeita-se que a informação do fabricante seja falsa. Para verificar se isto ocorre, um fiscal analisa uma amostra de 200 embalagens escolhidas aleatoriamente no mercado e constata que as mesmas contêm em média 498 ml. Considerando-se um nível de significância de 5%, pode-se afirmar que o fabricante está correto? Calcule o valor da prova para esta amostra.\n"
      ],
      "metadata": {
        "id": "QMLrGeybmGEt"
      }
    },
    {
      "cell_type": "code",
      "source": [
        "from scipy.stats import norm\n",
        "\n",
        "# Estatística Z calculada\n",
        "Z = -2.83\n",
        "\n",
        "# Cálculo do p-valor\n",
        "p_valor = norm.cdf(Z)\n",
        "print(f\"P-valor: {p_valor:.5f}\")\n"
      ],
      "metadata": {
        "colab": {
          "base_uri": "https://localhost:8080/"
        },
        "id": "1pe0t0-HmJzn",
        "outputId": "3c641945-26ec-42aa-ce12-f09c00264394"
      },
      "execution_count": 2,
      "outputs": [
        {
          "output_type": "stream",
          "name": "stdout",
          "text": [
            "P-valor: 0.00233\n"
          ]
        }
      ]
    },
    {
      "cell_type": "markdown",
      "source": [
        "Como o p-valor = 0.0023 é menor que o nível de significância de 0.05, rejeitamos a hipótese nula\n",
        "𝐻\n",
        "0\n",
        "H\n",
        "0\n",
        "​\n",
        " . Isso significa que há evidências estatísticas para afirmar que a média das embalagens é menor do que 500 ml, confirmando a suspeita de que o fabricante está errado. 🚨\n",
        "\n",
        "📌 Conclusão final: O fabricante não está correto, pois as embalagens contêm menos do que 500 ml em média."
      ],
      "metadata": {
        "id": "ycP-vqYzmnDO"
      }
    },
    {
      "cell_type": "markdown",
      "source": [
        "A duração das lâmpadas produzidas por certo fabricante tem distribuição normal com média igual a 1200 horas e desvio padrão igual a 300 horas. O fabricante introduz um novo processo na produção das lâmpadas. Para verificar se o novo processo produz lâmpadas de maior duração, o fabricante observa 100 lâmpadas produzidas pelo novo processo e constata que as mesmas duram em média 1265 horas. Admitindo-se um nível de significância de 5%, pode-se concluir que o novo processo produz lâmpadas com maior duração?"
      ],
      "metadata": {
        "id": "MPJ_EfmDmr9-"
      }
    },
    {
      "cell_type": "code",
      "source": [
        "from scipy.stats import norm\n",
        "\n",
        "# Estatística Z calculada\n",
        "Z = 2.17\n",
        "\n",
        "# Cálculo do p-valor (1 - P(Z < 2.17))\n",
        "p_valor = 1 - norm.cdf(Z)\n",
        "print(f\"P-valor: {p_valor:.5f}\")\n"
      ],
      "metadata": {
        "colab": {
          "base_uri": "https://localhost:8080/"
        },
        "id": "-uK9zwq3mxTy",
        "outputId": "64eeae65-65e3-40e4-a3de-aafbe85ba4e1"
      },
      "execution_count": 3,
      "outputs": [
        {
          "output_type": "stream",
          "name": "stdout",
          "text": [
            "P-valor: 0.01500\n"
          ]
        }
      ]
    },
    {
      "cell_type": "markdown",
      "source": [
        " Conclusão\n",
        "\n",
        "\n",
        "\n",
        "Como\n",
        "𝑝\n",
        "-\n",
        "𝑣\n",
        "𝑎\n",
        "𝑙\n",
        "𝑜\n",
        "𝑟\n",
        "=\n",
        "0.0150\n",
        "p-valor=0.0150 é menor que o nível de significância de 0.05, rejeitamos a hipótese nula\n",
        "𝐻\n",
        "0\n",
        "H\n",
        "0\n",
        "​\n",
        " . Isso significa que há evidências estatísticas para afirmar que a média de duração das lâmpadas aumentou com o novo processo.\n",
        "\n",
        "📌 Conclusão final: Sim, o novo processo produz lâmpadas com maior duração, pois há evidências estatísticas para confirmar esse aumento. ✅"
      ],
      "metadata": {
        "id": "e9xGNOkRm-w-"
      }
    },
    {
      "cell_type": "markdown",
      "source": [
        "O custo de produção de certo artigo numa localidade tem distribuição normal com média igual a R$42,00. Desenvolve-se uma política de redução de custos na empresa para melhorar a competitividade do referido produto no mercado. Observando-se os custos de 100 unidades deste produto, obteve-se uma média de 34,9 e um desvio padrão de 3,96. Admitindo-se um nível de significância de 5%, pode-se afirmar que o custo do produto considerado diminuiu?\n"
      ],
      "metadata": {
        "id": "RLBVoWB0nJHH"
      }
    },
    {
      "cell_type": "code",
      "source": [
        "from scipy.stats import norm\n",
        "\n",
        "# Estatística Z calculada\n",
        "Z = -17.93\n",
        "\n",
        "# Cálculo do p-valor (P(Z < -17.93))\n",
        "p_valor = norm.cdf(Z)\n",
        "print(f\"P-valor: {p_valor:.10f}\")\n"
      ],
      "metadata": {
        "colab": {
          "base_uri": "https://localhost:8080/"
        },
        "id": "xMCBlwpynOW3",
        "outputId": "302dfd8b-ed65-4a3b-f055-e7d7e6bc53b2"
      },
      "execution_count": 4,
      "outputs": [
        {
          "output_type": "stream",
          "name": "stdout",
          "text": [
            "P-valor: 0.0000000000\n"
          ]
        }
      ]
    },
    {
      "cell_type": "markdown",
      "source": [
        "Conclusão\n",
        "\n",
        "\n",
        "\n",
        "\n",
        "Como\n",
        "𝑝\n",
        "-\n",
        "𝑣\n",
        "𝑎\n",
        "𝑙\n",
        "𝑜\n",
        "𝑟\n",
        "≈\n",
        "0\n",
        "p-valor≈0 é menor que o nível de significância de 0.05, rejeitamos a hipótese nula\n",
        "𝐻\n",
        "0\n",
        "H\n",
        "0\n",
        "​\n",
        " . Isso significa que há fortes evidências estatísticas para afirmar que o custo médio realmente diminuiu.\n",
        "\n",
        "📌 Conclusão final: Sim, a política de redução de custos foi eficaz, pois há evidências estatísticas de que o custo médio do produto diminuiu. ✅"
      ],
      "metadata": {
        "id": "IOtyWWNNnpnA"
      }
    }
  ]
}